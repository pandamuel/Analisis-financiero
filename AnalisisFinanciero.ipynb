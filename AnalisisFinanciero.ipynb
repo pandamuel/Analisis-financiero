{
 "cells": [
  {
   "cell_type": "code",
   "execution_count": null,
   "metadata": {},
   "outputs": [],
   "source": []
  },
  {
   "cell_type": "markdown",
   "metadata": {},
   "source": [
    "## Que es lenguje de programacion\n",
    "cuenta con mas de 50 años sin embargo hay quienes consideran que viene del siglo 18, la programacion swe basa en una serie de sistemas complejos para enviar ordenes a una computadora. hay mas de 100 formas diferentes de lenguajes de programacion, algunos de los mas populares son python, java, c++ y D, \"La clave no es entender el lenguaje de programacion en si, si no aprender toda la logica que hay detras \" una pionera en proponer la idea de poder dar ordenes a una maquina fue Lady Ada (1815-1852). em 1991 fue creado un lenguje de programacion llamado python uno de los mas conocidos en la actualidad, c++ es un lenguaje orientado en la creacion de obgetos y emplearlos, estos obgetos son llamados funciones, en python estos obgetos \"funciones\" ya estan creados, por lo que la programacion es mas sensilla. esta es la diferencia de un lenguaje de alto y bajo nivel, en el alto nivel tenemos que escribir pocas palabras para hacer ejecutar las ordenes, mientras que un lenguaje de bajo nivel involucra escribir mucho mas para que se pueda ejecutar, python cuenta con un tipado dinamico esto le permite dinamisar las variables usadas en su codigo \n",
    "\n",
    "\n",
    "## Diferencia entre datos e informacion\n",
    "los dfatos son simplemente numeros, la informacion es la extrapcion que sacamos de esos datos, la idea de la ciencia de datos y el analizis de datos, es el trabajar en convertir enormes bases de datos en informacion valiosa, entendible, y practica\n",
    "\n",
    "## Variables\n",
    "una variable es un elemento que puede tomar cualquier valor, tomando el ejemplo de python, seria una analogia con una caja que representa cualquier valor que nosotros queramos, el valor para la variable numericva entera es (INt) existen otros tipos de variables cullas guardan informacion flotante como numeros desimales racionales su codigo es (float) etc. los numeros complejos se guardan en (complex) una de las variables mas importante es la volina, en otras palabras una variable en codfigo binario (bool)\n",
    "\n",
    "\n",
    "## Suma\n",
    "\n",
    "\n",
    "\n",
    "\n",
    "\n",
    "\n",
    "\n",
    "\n",
    "\n",
    "\n"
   ]
  },
  {
   "cell_type": "code",
   "execution_count": 2,
   "metadata": {},
   "outputs": [
    {
     "name": "stdout",
     "output_type": "stream",
     "text": [
      "7\n"
     ]
    }
   ],
   "source": [
    "x=3\n",
    "b=4\n",
    "sum=x+b \n",
    "print(sum)\n",
    "\n"
   ]
  },
  {
   "cell_type": "markdown",
   "metadata": {},
   "source": [
    "## resta\n"
   ]
  },
  {
   "cell_type": "code",
   "execution_count": 4,
   "metadata": {},
   "outputs": [
    {
     "name": "stdout",
     "output_type": "stream",
     "text": [
      "-1\n"
     ]
    }
   ],
   "source": [
    "diferencia=x-b\n",
    "print(diferencia)"
   ]
  },
  {
   "cell_type": "markdown",
   "metadata": {},
   "source": [
    "## Divicion se utiliza // para declarar resultados enteros"
   ]
  },
  {
   "cell_type": "code",
   "execution_count": 10,
   "metadata": {},
   "outputs": [
    {
     "name": "stdout",
     "output_type": "stream",
     "text": [
      "0\n"
     ]
    }
   ],
   "source": [
    "division=(x//b)\n",
    "print(division)"
   ]
  },
  {
   "cell_type": "markdown",
   "metadata": {},
   "source": [
    "## Desafio"
   ]
  },
  {
   "cell_type": "code",
   "execution_count": 6,
   "metadata": {},
   "outputs": [
    {
     "name": "stdout",
     "output_type": "stream",
     "text": [
      "1\n"
     ]
    }
   ],
   "source": [
    "partidosGanados=int(input(\"Inserte la cantidad de partidos ganados\"))\n",
    "partidosEmpatados=int(input(\"Inserte la cantidad de partidos empatados\"))\n",
    "partidosPerdidos=int(input(\"Inserte la cantidad de partidos perdidos\"))\n",
    "\n",
    "puntosTotales=partidosGanados*3+partidosEmpatados*1\n",
    "promedio=puntosTotales//(partidosGanados+partidosEmpatados+partidosPerdidos)\n",
    "print(promedio)\n",
    "\n"
   ]
  },
  {
   "cell_type": "markdown",
   "metadata": {},
   "source": [
    "## Desadio If:\n",
    " 1. Escribe un programa que le pida al usuario que ingrese un número y determine si el número es\n",
    " positivo, negativo o cero. y ademas que si el usuario ingresa otro caracter distinto, entonces\n",
    " que haya una sentencia que diga que debe ingresar un numero entero.\n"
   ]
  },
  {
   "cell_type": "code",
   "execution_count": 40,
   "metadata": {},
   "outputs": [
    {
     "name": "stdout",
     "output_type": "stream",
     "text": [
      "Error: ha ingresdo un caracter que no es numericamente entero, porfavor igrese un vaolor numérico\n"
     ]
    }
   ],
   "source": [
    "try:\n",
    "    x=int(input(\"Ingrese un cualquier numero entero\"))\n",
    "    if x>0:\n",
    "        print( x,\"es un numero es positivo\")\n",
    "    elif x<0:\n",
    "        print( x,\"es un numero negativo\")\n",
    "    else:\n",
    "        print( x,\"es igual a 0\")\n",
    "except ValueError:\n",
    "    print('Error: ha ingresdo un caracter que no es numericamente entero, porfavor igrese un vaolor numérico')\n"
   ]
  },
  {
   "cell_type": "markdown",
   "metadata": {},
   "source": [
    "## Desafio For"
   ]
  },
  {
   "cell_type": "code",
   "execution_count": 23,
   "metadata": {},
   "outputs": [
    {
     "name": "stdout",
     "output_type": "stream",
     "text": [
      "4 x 1 = 4\n",
      "4 x 2 = 8\n",
      "4 x 3 = 12\n",
      "4 x 4 = 16\n",
      "4 x 5 = 20\n",
      "4 x 6 = 24\n",
      "4 x 7 = 28\n",
      "4 x 8 = 32\n",
      "4 x 9 = 36\n"
     ]
    }
   ],
   "source": [
    "def listadenumeros(numero):\n",
    "    for a in range (1,10):\n",
    "        resultado= numero * a\n",
    "        print (f\"{numero} x {a} = {resultado}\")\n",
    "    \n",
    "listadenumeros(4)"
   ]
  },
  {
   "cell_type": "markdown",
   "metadata": {},
   "source": [
    "## Desafio Cuadrados"
   ]
  },
  {
   "cell_type": "code",
   "execution_count": 73,
   "metadata": {},
   "outputs": [
    {
     "ename": "SyntaxError",
     "evalue": "expected ':' (2011891278.py, line 2)",
     "output_type": "error",
     "traceback": [
      "\u001b[0;36m  Cell \u001b[0;32mIn[73], line 2\u001b[0;36m\u001b[0m\n\u001b[0;31m    for a in range (5*(1,100))\u001b[0m\n\u001b[0m                              ^\u001b[0m\n\u001b[0;31mSyntaxError\u001b[0m\u001b[0;31m:\u001b[0m expected ':'\n"
     ]
    }
   ],
   "source": [
    "def listadenumeros(numero):\n",
    "    for a in range (5*(1,100))\n",
    "        resultado= a - numero\n",
    "        print (resultado)\n",
    "    \n",
    "listadenumeros(2)"
   ]
  },
  {
   "cell_type": "code",
   "execution_count": 81,
   "metadata": {},
   "outputs": [
    {
     "name": "stdout",
     "output_type": "stream",
     "text": [
      "9802\n"
     ]
    }
   ],
   "source": [
    "def listadenumeros(numero):\n",
    "    for a in range (1,100):\n",
    "        resultado= a**numero+1\n",
    "    if resultado//5:\n",
    "        print (resultado)\n",
    "\n",
    "listadenumeros(2)"
   ]
  },
  {
   "cell_type": "code",
   "execution_count": null,
   "metadata": {},
   "outputs": [],
   "source": []
  }
 ],
 "metadata": {
  "kernelspec": {
   "display_name": "Python 3",
   "language": "python",
   "name": "python3"
  },
  "language_info": {
   "codemirror_mode": {
    "name": "ipython",
    "version": 3
   },
   "file_extension": ".py",
   "mimetype": "text/x-python",
   "name": "python",
   "nbconvert_exporter": "python",
   "pygments_lexer": "ipython3",
   "version": "3.10.13"
  }
 },
 "nbformat": 4,
 "nbformat_minor": 2
}
